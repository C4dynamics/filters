{
 "cells": [
  {
   "cell_type": "markdown",
   "metadata": {},
   "source": [
    "run luenberger estimator"
   ]
  },
  {
   "cell_type": "code",
   "execution_count": 5,
   "metadata": {},
   "outputs": [
    {
     "name": "stdout",
     "output_type": "stream",
     "text": [
      "is observable:\n",
      "False\n",
      "desired eigen values:\n",
      "[ 0.         -0.01654388  0.        ]\n",
      "desired eigen values:\n",
      "[-4 -4 -4]\n"
     ]
    },
    {
     "ename": "LinAlgError",
     "evalue": "Singular matrix",
     "output_type": "error",
     "traceback": [
      "\u001b[1;31m---------------------------------------------------------------------------\u001b[0m",
      "\u001b[1;31mLinAlgError\u001b[0m                               Traceback (most recent call last)",
      "\u001b[1;32m~\\AppData\\Local\\Temp\\ipykernel_11896\\31056822.py\u001b[0m in \u001b[0;36m<module>\u001b[1;34m\u001b[0m\n\u001b[0;32m     36\u001b[0m \u001b[0mprint\u001b[0m\u001b[1;33m(\u001b[0m\u001b[0mnp\u001b[0m\u001b[1;33m.\u001b[0m\u001b[0marray\u001b[0m\u001b[1;33m(\u001b[0m\u001b[1;33m[\u001b[0m\u001b[1;33m-\u001b[0m\u001b[1;36m4\u001b[0m\u001b[1;33m,\u001b[0m \u001b[1;33m-\u001b[0m\u001b[1;36m4\u001b[0m\u001b[1;33m,\u001b[0m \u001b[1;33m-\u001b[0m\u001b[1;36m4\u001b[0m\u001b[1;33m]\u001b[0m\u001b[1;33m)\u001b[0m\u001b[1;33m)\u001b[0m\u001b[1;33m\u001b[0m\u001b[1;33m\u001b[0m\u001b[0m\n\u001b[0;32m     37\u001b[0m \u001b[1;33m\u001b[0m\u001b[0m\n\u001b[1;32m---> 38\u001b[1;33m \u001b[0mrdr\u001b[0m\u001b[1;33m.\u001b[0m\u001b[0mfilter\u001b[0m\u001b[1;33m.\u001b[0m\u001b[0msetest\u001b[0m\u001b[1;33m(\u001b[0m\u001b[0mnp\u001b[0m\u001b[1;33m.\u001b[0m\u001b[0marray\u001b[0m\u001b[1;33m(\u001b[0m\u001b[1;33m[\u001b[0m\u001b[1;33m-\u001b[0m\u001b[1;36m4\u001b[0m\u001b[1;33m,\u001b[0m \u001b[1;33m-\u001b[0m\u001b[1;36m4\u001b[0m\u001b[1;33m,\u001b[0m \u001b[1;33m-\u001b[0m\u001b[1;36m4\u001b[0m\u001b[1;33m]\u001b[0m\u001b[1;33m)\u001b[0m\u001b[1;33m)\u001b[0m\u001b[1;33m\u001b[0m\u001b[1;33m\u001b[0m\u001b[0m\n\u001b[0m\u001b[0;32m     39\u001b[0m \u001b[1;33m\u001b[0m\u001b[0m\n\u001b[0;32m     40\u001b[0m \u001b[1;33m\u001b[0m\u001b[0m\n",
      "\u001b[1;32md:\\gh_repo\\filters\\luenberger\\m_luenberger.py\u001b[0m in \u001b[0;36msetest\u001b[1;34m(obj, s)\u001b[0m\n\u001b[0;32m     70\u001b[0m     \u001b[0mcmu\u001b[0m \u001b[1;33m=\u001b[0m \u001b[0mnp\u001b[0m\u001b[1;33m.\u001b[0m\u001b[0mzeros\u001b[0m\u001b[1;33m(\u001b[0m\u001b[0mn\u001b[0m\u001b[1;33m)\u001b[0m\u001b[1;33m\u001b[0m\u001b[1;33m\u001b[0m\u001b[0m\n\u001b[0;32m     71\u001b[0m     \u001b[0mcmu\u001b[0m\u001b[1;33m[\u001b[0m\u001b[1;33m-\u001b[0m\u001b[1;36m1\u001b[0m\u001b[1;33m]\u001b[0m \u001b[1;33m=\u001b[0m \u001b[1;36m1\u001b[0m\u001b[1;33m\u001b[0m\u001b[1;33m\u001b[0m\u001b[0m\n\u001b[1;32m---> 72\u001b[1;33m     \u001b[0mmu\u001b[0m \u001b[1;33m=\u001b[0m \u001b[0mnp\u001b[0m\u001b[1;33m.\u001b[0m\u001b[0mlinalg\u001b[0m\u001b[1;33m.\u001b[0m\u001b[0msolve\u001b[0m\u001b[1;33m(\u001b[0m\u001b[0mobj\u001b[0m\u001b[1;33m.\u001b[0m\u001b[0mobsv\u001b[0m\u001b[1;33m,\u001b[0m \u001b[0mcmu\u001b[0m\u001b[1;33m.\u001b[0m\u001b[0mreshape\u001b[0m\u001b[1;33m(\u001b[0m\u001b[1;33m(\u001b[0m\u001b[1;33m-\u001b[0m\u001b[1;36m1\u001b[0m\u001b[1;33m,\u001b[0m \u001b[1;36m1\u001b[0m\u001b[1;33m)\u001b[0m\u001b[1;33m)\u001b[0m\u001b[1;33m)\u001b[0m\u001b[1;33m\u001b[0m\u001b[1;33m\u001b[0m\u001b[0m\n\u001b[0m\u001b[0;32m     73\u001b[0m \u001b[1;33m\u001b[0m\u001b[0m\n\u001b[0;32m     74\u001b[0m     \u001b[0mM\u001b[0m \u001b[1;33m=\u001b[0m \u001b[0mnp\u001b[0m\u001b[1;33m.\u001b[0m\u001b[0mcopy\u001b[0m\u001b[1;33m(\u001b[0m\u001b[0mmu\u001b[0m\u001b[1;33m)\u001b[0m\u001b[1;33m\u001b[0m\u001b[1;33m\u001b[0m\u001b[0m\n",
      "\u001b[1;32m<__array_function__ internals>\u001b[0m in \u001b[0;36msolve\u001b[1;34m(*args, **kwargs)\u001b[0m\n",
      "\u001b[1;32mc:\\Users\\Ziv Meri\\.pyenv\\pyenv-win\\versions\\3.7.4\\lib\\site-packages\\numpy\\linalg\\linalg.py\u001b[0m in \u001b[0;36msolve\u001b[1;34m(a, b)\u001b[0m\n\u001b[0;32m    391\u001b[0m     \u001b[0msignature\u001b[0m \u001b[1;33m=\u001b[0m \u001b[1;34m'DD->D'\u001b[0m \u001b[1;32mif\u001b[0m \u001b[0misComplexType\u001b[0m\u001b[1;33m(\u001b[0m\u001b[0mt\u001b[0m\u001b[1;33m)\u001b[0m \u001b[1;32melse\u001b[0m \u001b[1;34m'dd->d'\u001b[0m\u001b[1;33m\u001b[0m\u001b[1;33m\u001b[0m\u001b[0m\n\u001b[0;32m    392\u001b[0m     \u001b[0mextobj\u001b[0m \u001b[1;33m=\u001b[0m \u001b[0mget_linalg_error_extobj\u001b[0m\u001b[1;33m(\u001b[0m\u001b[0m_raise_linalgerror_singular\u001b[0m\u001b[1;33m)\u001b[0m\u001b[1;33m\u001b[0m\u001b[1;33m\u001b[0m\u001b[0m\n\u001b[1;32m--> 393\u001b[1;33m     \u001b[0mr\u001b[0m \u001b[1;33m=\u001b[0m \u001b[0mgufunc\u001b[0m\u001b[1;33m(\u001b[0m\u001b[0ma\u001b[0m\u001b[1;33m,\u001b[0m \u001b[0mb\u001b[0m\u001b[1;33m,\u001b[0m \u001b[0msignature\u001b[0m\u001b[1;33m=\u001b[0m\u001b[0msignature\u001b[0m\u001b[1;33m,\u001b[0m \u001b[0mextobj\u001b[0m\u001b[1;33m=\u001b[0m\u001b[0mextobj\u001b[0m\u001b[1;33m)\u001b[0m\u001b[1;33m\u001b[0m\u001b[1;33m\u001b[0m\u001b[0m\n\u001b[0m\u001b[0;32m    394\u001b[0m \u001b[1;33m\u001b[0m\u001b[0m\n\u001b[0;32m    395\u001b[0m     \u001b[1;32mreturn\u001b[0m \u001b[0mwrap\u001b[0m\u001b[1;33m(\u001b[0m\u001b[0mr\u001b[0m\u001b[1;33m.\u001b[0m\u001b[0mastype\u001b[0m\u001b[1;33m(\u001b[0m\u001b[0mresult_t\u001b[0m\u001b[1;33m,\u001b[0m \u001b[0mcopy\u001b[0m\u001b[1;33m=\u001b[0m\u001b[1;32mFalse\u001b[0m\u001b[1;33m)\u001b[0m\u001b[1;33m)\u001b[0m\u001b[1;33m\u001b[0m\u001b[1;33m\u001b[0m\u001b[0m\n",
      "\u001b[1;32mc:\\Users\\Ziv Meri\\.pyenv\\pyenv-win\\versions\\3.7.4\\lib\\site-packages\\numpy\\linalg\\linalg.py\u001b[0m in \u001b[0;36m_raise_linalgerror_singular\u001b[1;34m(err, flag)\u001b[0m\n\u001b[0;32m     86\u001b[0m \u001b[1;33m\u001b[0m\u001b[0m\n\u001b[0;32m     87\u001b[0m \u001b[1;32mdef\u001b[0m \u001b[0m_raise_linalgerror_singular\u001b[0m\u001b[1;33m(\u001b[0m\u001b[0merr\u001b[0m\u001b[1;33m,\u001b[0m \u001b[0mflag\u001b[0m\u001b[1;33m)\u001b[0m\u001b[1;33m:\u001b[0m\u001b[1;33m\u001b[0m\u001b[1;33m\u001b[0m\u001b[0m\n\u001b[1;32m---> 88\u001b[1;33m     \u001b[1;32mraise\u001b[0m \u001b[0mLinAlgError\u001b[0m\u001b[1;33m(\u001b[0m\u001b[1;34m\"Singular matrix\"\u001b[0m\u001b[1;33m)\u001b[0m\u001b[1;33m\u001b[0m\u001b[1;33m\u001b[0m\u001b[0m\n\u001b[0m\u001b[0;32m     89\u001b[0m \u001b[1;33m\u001b[0m\u001b[0m\n\u001b[0;32m     90\u001b[0m \u001b[1;32mdef\u001b[0m \u001b[0m_raise_linalgerror_nonposdef\u001b[0m\u001b[1;33m(\u001b[0m\u001b[0merr\u001b[0m\u001b[1;33m,\u001b[0m \u001b[0mflag\u001b[0m\u001b[1;33m)\u001b[0m\u001b[1;33m:\u001b[0m\u001b[1;33m\u001b[0m\u001b[1;33m\u001b[0m\u001b[0m\n",
      "\u001b[1;31mLinAlgError\u001b[0m: Singular matrix"
     ]
    }
   ],
   "source": [
    "import sys, os\n",
    "import importlib\n",
    "import numpy as np\n",
    "\n",
    "sys.path.append('../')\n",
    "\n",
    "import m_params\n",
    "importlib.reload(m_params)\n",
    "from m_params import params\n",
    "\n",
    "import m_target\n",
    "importlib.reload(m_target)\n",
    "from m_target import target             \n",
    "\n",
    "import m_radar\n",
    "importlib.reload(m_radar)\n",
    "from m_radar import c_radar             \n",
    "\n",
    "import m_filtertype\n",
    "importlib.reload(m_filtertype)\n",
    "\n",
    "# initial conditions \n",
    "z0 = 100000 * params.ft2m\n",
    "v0 = -6000 * params.ft2m\n",
    "beta = 500 * params.lbft2kgm\n",
    "\n",
    "rdr = c_radar(np.array([z0 + 25 * params.ft2m, v0 - 150 * params.ft2m, beta + 300 * params.lbft2kgm])\n",
    "              , m_filtertype.filtertype.luenberger)\n",
    "\n",
    "\n",
    "print('is observable:')\n",
    "print(rdr.filter.isobservable())\n",
    "print('desired eigen values:')\n",
    "print(rdr.filter.eig())\n",
    "print('desired eigen values:')\n",
    "print(np.array([-4, -4, -4]))\n",
    "\n",
    "rdr.filter.setest(np.array([-4, -4, -4]))\n",
    "\n",
    "\n"
   ]
  },
  {
   "cell_type": "code",
   "execution_count": 23,
   "metadata": {},
   "outputs": [],
   "source": [
    "import m_params         # this one is for the reload \n",
    "import m_models         # this one is for the reload \n",
    "\n",
    "from m_params import params # for the direct calling  \n",
    "\n",
    "from scipy.integrate import solve_ivp, odeint\n",
    "\n",
    "import importlib\n",
    "importlib.reload(m_params)\n",
    "importlib.reload(m_models)\n",
    "\n",
    "# initial conditions \n",
    "z0 = 100000 * params.ft2m\n",
    "v0 = -6000 * params.ft2m\n",
    "a0 = 0\n",
    "beta = 500 * params.lbft2kgm\n",
    "\n",
    "# sim parameters \n",
    "dt = 1e-3\n",
    "tf = 30 \n",
    "t = np.arange(0, tf, dt)\n",
    "\n",
    "  \n",
    "''' simulate nonlinear system '''\n",
    "y_nln = odeint(m_models.nonlinear, [z0, v0, beta], t) \n",
    "y_nlnsimp = odeint(m_models.nonlinear_simp, [z0, v0, beta], t) \n",
    "y_lin = odeint(m_models.linear, [z0, v0, beta], t, args = (beta, )) \n"
   ]
  },
  {
   "cell_type": "code",
   "execution_count": null,
   "metadata": {},
   "outputs": [],
   "source": []
  },
  {
   "cell_type": "code",
   "execution_count": null,
   "metadata": {},
   "outputs": [],
   "source": [
    "plt.plot(t, y_nlnsimp[:, 0], label = 'simplified nonlinear')\n",
    "plt.plot(t, y_lin[:, 0], label = 'linear')\n",
    "plt.legend()\n",
    "plt.title('Altitude')\n",
    "plt.show()\n",
    "\n",
    "plt.plot(t, y_nlnsimp[:, 1], label = 'simplified nonlinear')\n",
    "plt.plot(t, y_lin[:, 1], label = 'linear')\n",
    "plt.legend()\n",
    "plt.title('Velocity')\n",
    "plt.show()\n",
    "\n",
    "plt.plot(t, y_nlnsimp[:, 2], label = 'simplified nonlinear')\n",
    "plt.plot(t, y_lin[:, 2], label = 'linear')\n",
    "plt.legend()\n",
    "plt.title(r'$\\beta$')\n",
    "plt.show()\n"
   ]
  },
  {
   "cell_type": "code",
   "execution_count": null,
   "metadata": {},
   "outputs": [],
   "source": [
    "plt.plot(t, y_nln[:, 0], label = 'nonlinear')\n",
    "plt.plot(t, y_lin[:, 0], label = 'linear')\n",
    "plt.legend()\n",
    "plt.title('Altitude')\n",
    "plt.show()\n",
    "\n",
    "plt.plot(t, y_nln[:, 1], label = 'nonlinear')\n",
    "plt.plot(t, y_lin[:, 1], label = 'linear')\n",
    "plt.legend()\n",
    "plt.title('Velocity')\n",
    "plt.show()\n",
    "\n",
    "plt.plot(t, y_nln[:, 2], label = 'nonlinear')\n",
    "plt.plot(t, y_lin[:, 2], label = 'linear')\n",
    "plt.legend()\n",
    "plt.title(r'$\\beta$')\n",
    "plt.show()\n"
   ]
  },
  {
   "cell_type": "code",
   "execution_count": null,
   "metadata": {},
   "outputs": [],
   "source": [
    "\n",
    "from scipy.integrate import solve_ivp, odeint\n",
    "\n",
    "import importlib\n",
    "importlib.reload(m_params)\n",
    "importlib.reload(m_target)\n",
    "importlib.reload(m_radar)\n",
    "\n",
    "\n",
    "# initial conditions \n",
    "z0 = 100000 * params.ft2m\n",
    "v0 = -6000 * params.ft2m\n",
    "a0 = 0\n",
    "beta = 500 * params.lbft2kgm\n",
    "\n",
    "# sim parameters \n",
    "dt = 1e-3\n",
    "tf = 30 \n",
    "\n",
    "# objects definition \n",
    "tgt = target([z0, v0, a0], beta)\n",
    "rdr = radar([z0 + 25 * params.ft2m, v0 - 150 * params.ft2m, beta + 300 * params.lbft2kgm])\n",
    "\n",
    "# main loop \n",
    "for t in np.arange(0, tf, dt):\n",
    "    \n",
    "    ''' simulate target motion '''\n",
    "    y = odeint(target.deriv, [tgt.z, tgt.vz], t + [0, dt], args = (tgt, )) \n",
    "    # if y[-1, 0] <= 0:\n",
    "    #     break\n",
    "    tgt.z, tgt.vz = y[-1, :]\n",
    "    tgt.data = np.concatenate((tgt.data, np.array([[tgt.z, tgt.vz, 0, 0]])), axis = 0)\n",
    "    \n",
    "    ''' take radar measure '''\n",
    "    tgt_dist = tgt.z + rdr.vk * np.random.randn(1) #  0.86217 # \n",
    "    tgt_measure = rdr.measure(t, tgt_dist)\n",
    "\n",
    "# zmask = tgt.data[:, 0] < 100000\n",
    "\n",
    "\n",
    "dy = target.deriv(tgt.data, 0, tgt) \n",
    "tgt.data[:, 2] = np.asarray(dy).T[:, 0]\n",
    "tgt.data[:, 3] = np.ones(len(tgt.data)) * beta"
   ]
  }
 ],
 "metadata": {
  "kernelspec": {
   "display_name": "Python 3.7.4 64-bit ('3.7.4')",
   "language": "python",
   "name": "python3"
  },
  "language_info": {
   "codemirror_mode": {
    "name": "ipython",
    "version": 3
   },
   "file_extension": ".py",
   "mimetype": "text/x-python",
   "name": "python",
   "nbconvert_exporter": "python",
   "pygments_lexer": "ipython3",
   "version": "3.7.4 (tags/v3.7.4:e09359112e, Jul  8 2019, 20:34:20) [MSC v.1916 64 bit (AMD64)]"
  },
  "vscode": {
   "interpreter": {
    "hash": "ad23a8c0bfcbcec1cee063205f6ad485cbd775379406a4bec684e1a72e0075d1"
   }
  }
 },
 "nbformat": 4,
 "nbformat_minor": 1
}
